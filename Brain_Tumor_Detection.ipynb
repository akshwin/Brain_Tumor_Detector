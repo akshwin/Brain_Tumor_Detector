{
 "cells": [
  {
   "cell_type": "code",
   "execution_count": null,
   "metadata": {
    "_cell_guid": "b1076dfc-b9ad-4769-8c92-a6c4dae69d19",
    "_uuid": "8f2839f25d086af736a60e9eeb907d3b93b6e0e5",
    "execution": {
     "iopub.execute_input": "2023-12-16T12:44:17.729890Z",
     "iopub.status.busy": "2023-12-16T12:44:17.729517Z",
     "iopub.status.idle": "2023-12-16T12:44:18.844235Z",
     "shell.execute_reply": "2023-12-16T12:44:18.843259Z",
     "shell.execute_reply.started": "2023-12-16T12:44:17.729861Z"
    }
   },
   "outputs": [],
   "source": [
    "# This Python 3 environment comes with many helpful analytics libraries installed\n",
    "# It is defined by the kaggle/python Docker image: https://github.com/kaggle/docker-python\n",
    "# For example, here's several helpful packages to load\n",
    "\n",
    "import numpy as np # linear algebra\n",
    "import pandas as pd # data processing, CSV file I/O (e.g. pd.read_csv)\n",
    "\n",
    "# Input data files are available in the read-only \"../input/\" directory\n",
    "# For example, running this (by clicking run or pressing Shift+Enter) will list all files under the input directory\n",
    "\n",
    "import os\n",
    "for dirname, _, filenames in os.walk('/kaggle/input'):\n",
    "    for filename in filenames:\n",
    "        print(os.path.join(dirname, filename))\n",
    "\n",
    "# You can write up to 20GB to the current directory (/kaggle/working/) that gets preserved as output when you create a version using \"Save & Run All\" \n",
    "# You can also write temporary files to /kaggle/temp/, but they won't be saved outside of the current session"
   ]
  },
  {
   "cell_type": "markdown",
   "metadata": {},
   "source": [
    "# BRAIN TUMOR DETECTION "
   ]
  },
  {
   "cell_type": "code",
   "execution_count": null,
   "metadata": {
    "execution": {
     "iopub.execute_input": "2023-12-16T12:44:18.846210Z",
     "iopub.status.busy": "2023-12-16T12:44:18.845908Z",
     "iopub.status.idle": "2023-12-16T12:44:18.851944Z",
     "shell.execute_reply": "2023-12-16T12:44:18.851020Z",
     "shell.execute_reply.started": "2023-12-16T12:44:18.846185Z"
    }
   },
   "outputs": [],
   "source": [
    "from keras.layers import Input, Lambda, Dense, Flatten\n",
    "from keras.models import Model\n",
    "\n",
    "#we will create generic code which can be used for other base models as well\n",
    "#from keras.applications.resnet50 import ResNet50\n",
    "from keras.applications.vgg16 import VGG16 \n",
    "from keras.applications.vgg16 import preprocess_input\n",
    "from keras.preprocessing import image\n",
    "from keras.preprocessing.image import ImageDataGenerator\n",
    "from keras.models import Sequential\n",
    "import numpy as np\n",
    "from glob import glob\n",
    "import matplotlib.pyplot as plt"
   ]
  },
  {
   "cell_type": "code",
   "execution_count": null,
   "metadata": {
    "execution": {
     "iopub.execute_input": "2023-12-16T12:44:18.853282Z",
     "iopub.status.busy": "2023-12-16T12:44:18.853014Z",
     "iopub.status.idle": "2023-12-16T12:44:18.863473Z",
     "shell.execute_reply": "2023-12-16T12:44:18.862633Z",
     "shell.execute_reply.started": "2023-12-16T12:44:18.853259Z"
    }
   },
   "outputs": [],
   "source": [
    "IMAGE_SIZE = [224,224,3]\n",
    "\n",
    "train_path = \"/kaggle/input/brain-tumor-mri-dataset/Training\"\n",
    "test_path = \"/kaggle/input/brain-tumor-mri-dataset/Testing\""
   ]
  },
  {
   "cell_type": "code",
   "execution_count": null,
   "metadata": {
    "execution": {
     "iopub.execute_input": "2023-12-16T12:44:18.865493Z",
     "iopub.status.busy": "2023-12-16T12:44:18.865186Z",
     "iopub.status.idle": "2023-12-16T12:44:19.198664Z",
     "shell.execute_reply": "2023-12-16T12:44:19.197821Z",
     "shell.execute_reply.started": "2023-12-16T12:44:18.865469Z"
    }
   },
   "outputs": [],
   "source": [
    "# Import the Vgg 16 library as shown below and add preprocessing layer to the front of VGG\n",
    "# Here we will be using imagenet weights\n",
    "\n",
    "vgg = VGG16(input_shape = IMAGE_SIZE , weights='imagenet', include_top=False) #add image size and remove last layer to do binary classification(i.e imagenet contains about 1000 classes but here we have only two: neumonia or no neumonia)\n"
   ]
  },
  {
   "cell_type": "code",
   "execution_count": null,
   "metadata": {
    "execution": {
     "iopub.execute_input": "2023-12-16T12:44:19.200088Z",
     "iopub.status.busy": "2023-12-16T12:44:19.199796Z",
     "iopub.status.idle": "2023-12-16T12:44:19.205401Z",
     "shell.execute_reply": "2023-12-16T12:44:19.204509Z",
     "shell.execute_reply.started": "2023-12-16T12:44:19.200063Z"
    }
   },
   "outputs": [],
   "source": [
    "# don't train existing weights\n",
    "for layer in vgg.layers:\n",
    "    layer.trainable = False"
   ]
  },
  {
   "cell_type": "code",
   "execution_count": null,
   "metadata": {
    "execution": {
     "iopub.execute_input": "2023-12-16T12:44:19.206799Z",
     "iopub.status.busy": "2023-12-16T12:44:19.206526Z",
     "iopub.status.idle": "2023-12-16T12:44:19.217082Z",
     "shell.execute_reply": "2023-12-16T12:44:19.216216Z",
     "shell.execute_reply.started": "2023-12-16T12:44:19.206775Z"
    }
   },
   "outputs": [],
   "source": [
    "  # useful for getting number of output classes in order to kno how many output to expect\n",
    "folders = glob('/kaggle/input/brain-tumor-mri-dataset/Training/*')"
   ]
  },
  {
   "cell_type": "code",
   "execution_count": null,
   "metadata": {
    "execution": {
     "iopub.execute_input": "2023-12-16T12:44:19.219151Z",
     "iopub.status.busy": "2023-12-16T12:44:19.218884Z",
     "iopub.status.idle": "2023-12-16T12:44:19.232199Z",
     "shell.execute_reply": "2023-12-16T12:44:19.231487Z",
     "shell.execute_reply.started": "2023-12-16T12:44:19.219129Z"
    }
   },
   "outputs": [],
   "source": [
    "# our layers - you can add more if you want\n",
    "x = Flatten()(vgg.output)"
   ]
  },
  {
   "cell_type": "code",
   "execution_count": null,
   "metadata": {
    "execution": {
     "iopub.execute_input": "2023-12-16T12:44:19.233524Z",
     "iopub.status.busy": "2023-12-16T12:44:19.233197Z",
     "iopub.status.idle": "2023-12-16T12:44:19.256653Z",
     "shell.execute_reply": "2023-12-16T12:44:19.255814Z",
     "shell.execute_reply.started": "2023-12-16T12:44:19.233487Z"
    }
   },
   "outputs": [],
   "source": [
    "prediction = Dense(len(folders), activation='softmax')(x)\n",
    "\n",
    "# create a model object\n",
    "model = Model(inputs=vgg.input, outputs=prediction) #create a model with vgg as input and output as prediction"
   ]
  },
  {
   "cell_type": "code",
   "execution_count": null,
   "metadata": {
    "execution": {
     "iopub.execute_input": "2023-12-16T12:44:19.440579Z",
     "iopub.status.busy": "2023-12-16T12:44:19.440225Z",
     "iopub.status.idle": "2023-12-16T12:44:19.488172Z",
     "shell.execute_reply": "2023-12-16T12:44:19.487345Z",
     "shell.execute_reply.started": "2023-12-16T12:44:19.440551Z"
    }
   },
   "outputs": [],
   "source": [
    "model.summary()"
   ]
  },
  {
   "cell_type": "code",
   "execution_count": null,
   "metadata": {
    "execution": {
     "iopub.execute_input": "2023-12-16T12:44:19.615924Z",
     "iopub.status.busy": "2023-12-16T12:44:19.615630Z",
     "iopub.status.idle": "2023-12-16T12:44:19.627974Z",
     "shell.execute_reply": "2023-12-16T12:44:19.627066Z",
     "shell.execute_reply.started": "2023-12-16T12:44:19.615899Z"
    }
   },
   "outputs": [],
   "source": [
    "# compile model\n",
    "model.compile(\n",
    "  loss='categorical_crossentropy',\n",
    "  optimizer='adam',\n",
    "  metrics=['accuracy']\n",
    ")\n"
   ]
  },
  {
   "cell_type": "code",
   "execution_count": null,
   "metadata": {
    "execution": {
     "iopub.execute_input": "2023-12-16T12:44:19.902683Z",
     "iopub.status.busy": "2023-12-16T12:44:19.902235Z",
     "iopub.status.idle": "2023-12-16T12:44:19.911990Z",
     "shell.execute_reply": "2023-12-16T12:44:19.910966Z",
     "shell.execute_reply.started": "2023-12-16T12:44:19.902648Z"
    }
   },
   "outputs": [],
   "source": [
    "# Use the Image Data Generator to import the images from the dataset\n",
    "from keras.preprocessing.image import ImageDataGenerator\n",
    "\n",
    "train_datagen = ImageDataGenerator(rescale = 1./255,\n",
    "                                   shear_range = 0.2,\n",
    "                                   zoom_range = 0.2,\n",
    "                                   horizontal_flip = True)\n",
    "\n",
    "test_datagen = ImageDataGenerator(rescale = 1./255)"
   ]
  },
  {
   "cell_type": "code",
   "execution_count": null,
   "metadata": {
    "execution": {
     "iopub.execute_input": "2023-12-16T12:44:20.312062Z",
     "iopub.status.busy": "2023-12-16T12:44:20.311136Z",
     "iopub.status.idle": "2023-12-16T12:44:20.508537Z",
     "shell.execute_reply": "2023-12-16T12:44:20.507640Z",
     "shell.execute_reply.started": "2023-12-16T12:44:20.312028Z"
    }
   },
   "outputs": [],
   "source": [
    "# Make sure you provide the same target size as initialied for the image size\n",
    "training_set = train_datagen.flow_from_directory('/kaggle/input/brain-tumor-mri-dataset/Training',\n",
    "                                                 target_size = (224, 224),\n",
    "                                                 batch_size = 32,\n",
    "                                                 class_mode = 'categorical')"
   ]
  },
  {
   "cell_type": "code",
   "execution_count": null,
   "metadata": {
    "execution": {
     "iopub.execute_input": "2023-12-16T12:44:20.613730Z",
     "iopub.status.busy": "2023-12-16T12:44:20.613455Z",
     "iopub.status.idle": "2023-12-16T12:44:20.667077Z",
     "shell.execute_reply": "2023-12-16T12:44:20.666207Z",
     "shell.execute_reply.started": "2023-12-16T12:44:20.613708Z"
    }
   },
   "outputs": [],
   "source": [
    "test_set = test_datagen.flow_from_directory('/kaggle/input/brain-tumor-mri-dataset/Testing',\n",
    "                                            target_size = (224, 224),\n",
    "                                            batch_size = 32,\n",
    "                                            class_mode = 'categorical')"
   ]
  },
  {
   "cell_type": "code",
   "execution_count": null,
   "metadata": {
    "execution": {
     "iopub.execute_input": "2023-12-16T12:44:20.943704Z",
     "iopub.status.busy": "2023-12-16T12:44:20.943400Z",
     "iopub.status.idle": "2023-12-16T13:09:36.613495Z",
     "shell.execute_reply": "2023-12-16T13:09:36.612519Z",
     "shell.execute_reply.started": "2023-12-16T12:44:20.943680Z"
    }
   },
   "outputs": [],
   "source": [
    "# fit the model\n",
    "# Run the cell. It will take some time to execute\n",
    "r = model.fit(\n",
    "  training_set,\n",
    "  validation_data=test_set,\n",
    "  epochs=20,\n",
    "  steps_per_epoch=len(training_set),\n",
    "  validation_steps=len(test_set)\n",
    ")"
   ]
  },
  {
   "cell_type": "code",
   "execution_count": null,
   "metadata": {
    "execution": {
     "iopub.execute_input": "2023-12-16T13:09:36.615681Z",
     "iopub.status.busy": "2023-12-16T13:09:36.615329Z",
     "iopub.status.idle": "2023-12-16T13:09:37.180814Z",
     "shell.execute_reply": "2023-12-16T13:09:37.179890Z",
     "shell.execute_reply.started": "2023-12-16T13:09:36.615655Z"
    }
   },
   "outputs": [],
   "source": [
    "# plot the loss\n",
    "plt.plot(r.history['loss'], label='train loss')\n",
    "plt.plot(r.history['val_loss'], label='val loss')\n",
    "plt.legend()\n",
    "plt.show()\n",
    "plt.savefig('LossVal_loss')\n",
    "\n",
    "# plot the accuracy\n",
    "plt.plot(r.history['accuracy'], label='train acc')\n",
    "plt.plot(r.history['val_accuracy'], label='val acc')\n",
    "plt.legend()\n",
    "plt.show()\n",
    "plt.savefig('AccVal_acc')"
   ]
  },
  {
   "cell_type": "code",
   "execution_count": null,
   "metadata": {
    "execution": {
     "iopub.execute_input": "2023-12-16T13:09:47.320747Z",
     "iopub.status.busy": "2023-12-16T13:09:47.320395Z",
     "iopub.status.idle": "2023-12-16T13:09:47.475228Z",
     "shell.execute_reply": "2023-12-16T13:09:47.474217Z",
     "shell.execute_reply.started": "2023-12-16T13:09:47.320724Z"
    }
   },
   "outputs": [],
   "source": [
    "# save it as a h5 file\n",
    "\n",
    "import tensorflow as tf\n",
    "\n",
    "from keras.models import load_model\n",
    "\n",
    "model.save('model_vgg16.h5')"
   ]
  },
  {
   "cell_type": "code",
   "execution_count": null,
   "metadata": {
    "execution": {
     "iopub.execute_input": "2023-12-16T13:15:44.562149Z",
     "iopub.status.busy": "2023-12-16T13:15:44.561465Z",
     "iopub.status.idle": "2023-12-16T13:15:44.581967Z",
     "shell.execute_reply": "2023-12-16T13:15:44.581085Z",
     "shell.execute_reply.started": "2023-12-16T13:15:44.562121Z"
    }
   },
   "outputs": [],
   "source": [
    "from IPython.display import display\n",
    "from PIL import Image\n",
    "\n",
    "\n",
    "NoTumor=\"/kaggle/input/brain-tumor-mri-dataset/Testing/notumor/Te-noTr_0000.jpg\"\n",
    "display(Image.open(NoTumor))"
   ]
  },
  {
   "cell_type": "code",
   "execution_count": null,
   "metadata": {
    "execution": {
     "iopub.execute_input": "2023-12-16T13:15:49.725443Z",
     "iopub.status.busy": "2023-12-16T13:15:49.724563Z",
     "iopub.status.idle": "2023-12-16T13:15:50.213432Z",
     "shell.execute_reply": "2023-12-16T13:15:50.212426Z",
     "shell.execute_reply.started": "2023-12-16T13:15:49.725401Z"
    }
   },
   "outputs": [],
   "source": [
    "from tensorflow.keras.models import load_model\n",
    "import numpy as np\n",
    "\n",
    "\n",
    "model = load_model('brain_tumor.h5')\n",
    "\n",
    "img = image.load_img(NoTumor,target_size=(224, 224))\n",
    "\n",
    "x = image.img_to_array(img)\n",
    "x = np.expand_dims(x,axis=0)\n",
    "img_data = preprocess_input(x)\n",
    "classes = model.predict(img_data)\n",
    "print(classes)\n",
    "if(classes[0][2]>classes[0][0] and classes[0][2]>classes[0][1] and classes[0][2]>classes[0][3]):\n",
    "    print(\"Tumor detected\")\n",
    "else:\n",
    "    print(\"No tumor detected\")"
   ]
  },
  {
   "cell_type": "code",
   "execution_count": null,
   "metadata": {
    "execution": {
     "iopub.execute_input": "2023-12-16T13:16:03.687420Z",
     "iopub.status.busy": "2023-12-16T13:16:03.686718Z",
     "iopub.status.idle": "2023-12-16T13:16:03.765019Z",
     "shell.execute_reply": "2023-12-16T13:16:03.764138Z",
     "shell.execute_reply.started": "2023-12-16T13:16:03.687388Z"
    }
   },
   "outputs": [],
   "source": [
    "from IPython.display import display\n",
    "from PIL import Image\n",
    "Tumor= \"/kaggle/input/brain-tumor-mri-dataset/Testing/pituitary/Te-pi_0014.jpg\"\n",
    "display(Image.open(Tumor))"
   ]
  },
  {
   "cell_type": "code",
   "execution_count": null,
   "metadata": {
    "execution": {
     "iopub.execute_input": "2023-12-16T13:16:06.900681Z",
     "iopub.status.busy": "2023-12-16T13:16:06.900031Z",
     "iopub.status.idle": "2023-12-16T13:16:07.383205Z",
     "shell.execute_reply": "2023-12-16T13:16:07.382098Z",
     "shell.execute_reply.started": "2023-12-16T13:16:06.900647Z"
    }
   },
   "outputs": [],
   "source": [
    "from tensorflow.keras.models import load_model\n",
    "import numpy as np\n",
    "\n",
    "model = load_model('model_vgg16.h5')\n",
    "\n",
    "img = image.load_img(Tumor,target_size=(224, 224))\n",
    "\n",
    "x = image.img_to_array(img)\n",
    "x = np.expand_dims(x,axis=0)\n",
    "img_data = preprocess_input(x)\n",
    "classes = model.predict(img_data)\n",
    "print(classes)\n",
    "if(classes[0][2]>classes[0][0] and classes[0][2]>classes[0][1] and classes[0][2]>classes[0][3]):\n",
    "    print(\"Tumor detected\")\n",
    "else:\n",
    "    print(\"No tumor detected\")"
   ]
  }
 ],
 "metadata": {
  "kaggle": {
   "accelerator": "nvidiaTeslaT4",
   "dataSources": [
    {
     "datasetId": 1608934,
     "sourceId": 2645886,
     "sourceType": "datasetVersion"
    }
   ],
   "dockerImageVersionId": 30626,
   "isGpuEnabled": true,
   "isInternetEnabled": true,
   "language": "python",
   "sourceType": "notebook"
  },
  "kernelspec": {
   "display_name": "Python 3 (ipykernel)",
   "language": "python",
   "name": "python3"
  },
  "language_info": {
   "codemirror_mode": {
    "name": "ipython",
    "version": 3
   },
   "file_extension": ".py",
   "mimetype": "text/x-python",
   "name": "python",
   "nbconvert_exporter": "python",
   "pygments_lexer": "ipython3",
   "version": "3.8.18"
  }
 },
 "nbformat": 4,
 "nbformat_minor": 4
}
